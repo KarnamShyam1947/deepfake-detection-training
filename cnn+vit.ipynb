{
 "cells": [
  {
   "cell_type": "code",
   "execution_count": 2,
   "metadata": {
    "execution": {
     "iopub.execute_input": "2025-01-12T21:20:16.193954Z",
     "iopub.status.busy": "2025-01-12T21:20:16.193685Z",
     "iopub.status.idle": "2025-01-12T21:20:42.183624Z",
     "shell.execute_reply": "2025-01-12T21:20:42.182530Z",
     "shell.execute_reply.started": "2025-01-12T21:20:16.193903Z"
    }
   },
   "outputs": [
    {
     "name": "stdout",
     "output_type": "stream",
     "text": [
      "Collecting package metadata (current_repodata.json): - \b\b\\ \b\b| \b\b/ \b\b- \b\b\\ \b\b| \b\b/ \b\b- \b\b\\ \b\b| \b\b/ \b\b- \b\b\\ \b\b| \b\b/ \b\b- \b\b\\ \b\b| \b\b/ \b\b- \b\b\\ \b\b| \b\b/ \b\b- \b\b\\ \b\b| \b\bdone\r\n",
      "Solving environment: - \b\bfailed with repodata from current_repodata.json, will retry with next repodata source.\r\n",
      "Collecting package metadata (repodata.json): | \b\b/ \b\b- \b\b\\ \b\b| \b\b/ \b\b- \b\b\\ \b\b| \b\b/ \b\b- \b\b\\ \b\b| \b\b/ \b\b- \b\b\\ \b\b| \b\b/ \b\b- \b\b\\ \b\b| \b\b/ \b\b- \b\b\\ \b\b| \b\b/ \b\b- \b\b\\ \b\b| \b\b/ \b\b- \b\b\\ \b\b| \b\b/ \b\b- \b\b\\ \b\b| \b\b/ \b\b- \b\b\\ \b\b| \b\b/ \b\b- \b\b\\ \b\b| \b\b/ \b\b- \b\b\\ \b\b| \b\b/ \b\b- \b\b\\ \b\b| \b\b/ \b\b- \b\b\\ \b\b| \b\b/ \b\b- \b\b\\ \b\b| \b\b/ \b\b- \b\b\\ \b\b| \b\b/ \b\b- \b\b\\ \b\b| \b\bdone\r\n",
      "Solving environment: - \b\b\\ \b\b| \b\bdone\r\n",
      "\r\n",
      "\r\n",
      "==> WARNING: A newer version of conda exists. <==\r\n",
      "  current version: 4.7.12\r\n",
      "  latest version: 24.11.3\r\n",
      "\r\n",
      "Please update conda by running\r\n",
      "\r\n",
      "    $ conda update -n base -c defaults conda\r\n",
      "\r\n",
      "\r\n",
      "\r\n",
      "## Package Plan ##\r\n",
      "\r\n",
      "  environment location: /opt/conda/envs/myenv\r\n",
      "\r\n",
      "  added / updated specs:\r\n",
      "    - python=3.8\r\n",
      "\r\n",
      "\r\n",
      "The following packages will be downloaded:\r\n",
      "\r\n",
      "    package                    |            build\r\n",
      "    ---------------------------|-----------------\r\n",
      "    _libgcc_mutex-0.1          |             main           3 KB\r\n",
      "    ca-certificates-2024.12.31 |       h06a4308_0         128 KB\r\n",
      "    ld_impl_linux-64-2.40      |       h12ee557_0         710 KB\r\n",
      "    libffi-3.3                 |       he6710b0_2          50 KB\r\n",
      "    libgcc-ng-9.1.0            |       hdf63c60_0         5.1 MB\r\n",
      "    libstdcxx-ng-9.1.0         |       hdf63c60_0         3.1 MB\r\n",
      "    ncurses-6.3                |       h7f8727e_2         782 KB\r\n",
      "    openssl-1.1.1w             |       h7f8727e_0         3.7 MB\r\n",
      "    pip-24.2                   |   py38h06a4308_0         2.2 MB\r\n",
      "    python-3.8.13              |       h12debd9_0        18.8 MB\r\n",
      "    readline-8.1.2             |       h7f8727e_1         354 KB\r\n",
      "    setuptools-75.1.0          |   py38h06a4308_0         1.7 MB\r\n",
      "    sqlite-3.38.5              |       hc218d9a_0         1.0 MB\r\n",
      "    tk-8.6.12                  |       h1ccaba5_0         3.0 MB\r\n",
      "    wheel-0.44.0               |   py38h06a4308_0         108 KB\r\n",
      "    xz-5.2.5                   |       h7f8727e_1         339 KB\r\n",
      "    zlib-1.2.12                |       h7f8727e_2         106 KB\r\n",
      "    ------------------------------------------------------------\r\n",
      "                                           Total:        41.2 MB\r\n",
      "\r\n",
      "The following NEW packages will be INSTALLED:\r\n",
      "\r\n",
      "  _libgcc_mutex      pkgs/main/linux-64::_libgcc_mutex-0.1-main\r\n",
      "  ca-certificates    pkgs/main/linux-64::ca-certificates-2024.12.31-h06a4308_0\r\n",
      "  ld_impl_linux-64   pkgs/main/linux-64::ld_impl_linux-64-2.40-h12ee557_0\r\n",
      "  libffi             pkgs/main/linux-64::libffi-3.3-he6710b0_2\r\n",
      "  libgcc-ng          pkgs/main/linux-64::libgcc-ng-9.1.0-hdf63c60_0\r\n",
      "  libstdcxx-ng       pkgs/main/linux-64::libstdcxx-ng-9.1.0-hdf63c60_0\r\n",
      "  ncurses            pkgs/main/linux-64::ncurses-6.3-h7f8727e_2\r\n",
      "  openssl            pkgs/main/linux-64::openssl-1.1.1w-h7f8727e_0\r\n",
      "  pip                pkgs/main/linux-64::pip-24.2-py38h06a4308_0\r\n",
      "  python             pkgs/main/linux-64::python-3.8.13-h12debd9_0\r\n",
      "  readline           pkgs/main/linux-64::readline-8.1.2-h7f8727e_1\r\n",
      "  setuptools         pkgs/main/linux-64::setuptools-75.1.0-py38h06a4308_0\r\n",
      "  sqlite             pkgs/main/linux-64::sqlite-3.38.5-hc218d9a_0\r\n",
      "  tk                 pkgs/main/linux-64::tk-8.6.12-h1ccaba5_0\r\n",
      "  wheel              pkgs/main/linux-64::wheel-0.44.0-py38h06a4308_0\r\n",
      "  xz                 pkgs/main/linux-64::xz-5.2.5-h7f8727e_1\r\n",
      "  zlib               pkgs/main/linux-64::zlib-1.2.12-h7f8727e_2\r\n",
      "\r\n",
      "\r\n",
      "\r\n",
      "Downloading and Extracting Packages\r\n",
      "_libgcc_mutex-0.1    | 3 KB      | ##################################### | 100% \r\n",
      "readline-8.1.2       | 354 KB    | ##################################### | 100% \r\n",
      "ncurses-6.3          | 782 KB    | ##################################### | 100% \r\n",
      "sqlite-3.38.5        | 1.0 MB    | ##################################### | 100% \r\n",
      "zlib-1.2.12          | 106 KB    | ##################################### | 100% \r\n",
      "ca-certificates-2024 | 128 KB    | ##################################### | 100% \r\n",
      "libstdcxx-ng-9.1.0   | 3.1 MB    | ##################################### | 100% \r\n",
      "openssl-1.1.1w       | 3.7 MB    | ##################################### | 100% \r\n",
      "tk-8.6.12            | 3.0 MB    | ##################################### | 100% \r\n",
      "libgcc-ng-9.1.0      | 5.1 MB    | ##################################### | 100% \r\n",
      "setuptools-75.1.0    | 1.7 MB    | ##################################### | 100% \r\n",
      "libffi-3.3           | 50 KB     | ##################################### | 100% \r\n",
      "python-3.8.13        | 18.8 MB   | ##################################### | 100% \r\n",
      "xz-5.2.5             | 339 KB    | ##################################### | 100% \r\n",
      "wheel-0.44.0         | 108 KB    | ##################################### | 100% \r\n",
      "pip-24.2             | 2.2 MB    | ##################################### | 100% \r\n",
      "ld_impl_linux-64-2.4 | 710 KB    | ##################################### | 100% \r\n",
      "Preparing transaction: - \b\b\\ \b\b| \b\bdone\r\n",
      "Verifying transaction: - \b\b\\ \b\b| \b\b/ \b\b- \b\b\\ \b\b| \b\b/ \b\b- \b\b\\ \b\b| \b\bdone\r\n",
      "Executing transaction: - \b\b\\ \b\b| \b\b/ \b\b- \b\b\\ \b\b| \b\bdone\r\n",
      "#\r\n",
      "# To activate this environment, use\r\n",
      "#\r\n",
      "#     $ conda activate myenv\r\n",
      "#\r\n",
      "# To deactivate an active environment, use\r\n",
      "#\r\n",
      "#     $ conda deactivate\r\n",
      "\r\n"
     ]
    }
   ],
   "source": [
    "!conda create -n myenv python=3.8 -y"
   ]
  },
  {
   "cell_type": "code",
   "execution_count": 4,
   "metadata": {
    "execution": {
     "iopub.execute_input": "2025-01-12T21:20:42.191263Z",
     "iopub.status.busy": "2025-01-12T21:20:42.191041Z",
     "iopub.status.idle": "2025-01-12T21:22:03.226242Z",
     "shell.execute_reply": "2025-01-12T21:22:03.225368Z",
     "shell.execute_reply.started": "2025-01-12T21:20:42.191213Z"
    }
   },
   "outputs": [
    {
     "name": "stdout",
     "output_type": "stream",
     "text": [
      "Collecting transformers\r\n",
      "\u001b[?25l  Downloading https://files.pythonhosted.org/packages/8f/e9/c2b4c823b3959d475a570c1bd2df4125478e2e37b96fb967a87933ae7134/transformers-4.18.0-py3-none-any.whl (4.0MB)\r\n",
      "\u001b[K     |████████████████████████████████| 4.0MB 8.7MB/s \r\n",
      "\u001b[?25hCollecting timm\r\n",
      "\u001b[?25l  Downloading https://files.pythonhosted.org/packages/89/4e/97622efc48a6e0c11781ed8a3472c679f2c8a5cf6ebd58a57b050e758bfe/timm-0.6.12-py3-none-any.whl (549kB)\r\n",
      "\u001b[K     |████████████████████████████████| 552kB 42.8MB/s \r\n",
      "\u001b[?25hCollecting tokenizers!=0.11.3,<0.13,>=0.11.1\r\n",
      "\u001b[?25l  Downloading https://files.pythonhosted.org/packages/36/22/26b08c841c0493908b4be6960ec2be14a21d1ec0f42ae0cedbca5599ad3d/tokenizers-0.12.1-cp36-cp36m-manylinux_2_12_x86_64.manylinux2010_x86_64.whl (6.6MB)\r\n",
      "\u001b[K     |████████████████████████████████| 6.6MB 50.2MB/s \r\n",
      "\u001b[?25hRequirement already satisfied, skipping upgrade: regex!=2019.12.17 in /opt/conda/lib/python3.6/site-packages (from transformers) (2019.11.1)\r\n",
      "Requirement already satisfied, skipping upgrade: requests in /opt/conda/lib/python3.6/site-packages (from transformers) (2.22.0)\r\n",
      "Requirement already satisfied, skipping upgrade: pyyaml>=5.1 in /opt/conda/lib/python3.6/site-packages (from transformers) (5.1.2)\r\n",
      "Collecting huggingface-hub<1.0,>=0.1.0\r\n",
      "\u001b[?25l  Downloading https://files.pythonhosted.org/packages/c8/df/1b454741459f6ce75f86534bdad42ca17291b14a83066695f7d2c676e16c/huggingface_hub-0.4.0-py3-none-any.whl (67kB)\r\n",
      "\u001b[K     |████████████████████████████████| 71kB 6.8MB/s \r\n",
      "\u001b[?25hCollecting sacremoses\r\n",
      "\u001b[?25l  Downloading https://files.pythonhosted.org/packages/28/78/fef8d089db5b97546fd6d1ff2e813b8544e85670bf3a8c378c9d0250b98d/sacremoses-0.0.53.tar.gz (880kB)\r\n",
      "\u001b[K     |████████████████████████████████| 880kB 44.4MB/s \r\n",
      "\u001b[?25hRequirement already satisfied, skipping upgrade: filelock in /opt/conda/lib/python3.6/site-packages (from transformers) (3.0.12)\r\n",
      "Requirement already satisfied, skipping upgrade: tqdm>=4.27 in /opt/conda/lib/python3.6/site-packages (from transformers) (4.39.0)\r\n",
      "Collecting packaging>=20.0\r\n",
      "\u001b[?25l  Downloading https://files.pythonhosted.org/packages/05/8e/8de486cbd03baba4deef4142bd643a3e7bbe954a784dc1bb17142572d127/packaging-21.3-py3-none-any.whl (40kB)\r\n",
      "\u001b[K     |████████████████████████████████| 40kB 4.5MB/s \r\n",
      "\u001b[?25hRequirement already satisfied, skipping upgrade: importlib-metadata; python_version < \"3.8\" in /opt/conda/lib/python3.6/site-packages (from transformers) (0.23)\r\n",
      "Requirement already satisfied, skipping upgrade: numpy>=1.17 in /opt/conda/lib/python3.6/site-packages (from transformers) (1.17.4)\r\n",
      "Requirement already satisfied, skipping upgrade: dataclasses; python_version < \"3.7\" in /opt/conda/lib/python3.6/site-packages (from transformers) (0.7)\r\n",
      "Collecting torch>=1.7\r\n",
      "\u001b[?25l  Downloading https://files.pythonhosted.org/packages/a4/54/81b1c3c574a1ffde54b0c82ed2a37d81395709cdd5f50e59970aeed5d95e/torch-1.10.2-cp36-cp36m-manylinux1_x86_64.whl (881.9MB)\r\n",
      "\u001b[K     |████████████████████████████████| 881.9MB 14kB/s \r\n",
      "\u001b[?25hRequirement already satisfied, skipping upgrade: torchvision in /opt/conda/lib/python3.6/site-packages (from timm) (0.4.1a0+d94043a)\r\n",
      "Requirement already satisfied, skipping upgrade: chardet<3.1.0,>=3.0.2 in /opt/conda/lib/python3.6/site-packages (from requests->transformers) (3.0.4)\r\n",
      "Requirement already satisfied, skipping upgrade: certifi>=2017.4.17 in /opt/conda/lib/python3.6/site-packages (from requests->transformers) (2019.9.11)\r\n",
      "Requirement already satisfied, skipping upgrade: urllib3!=1.25.0,!=1.25.1,<1.26,>=1.21.1 in /opt/conda/lib/python3.6/site-packages (from requests->transformers) (1.24.2)\r\n",
      "Requirement already satisfied, skipping upgrade: idna<2.9,>=2.5 in /opt/conda/lib/python3.6/site-packages (from requests->transformers) (2.8)\r\n",
      "Collecting typing-extensions>=3.7.4.3\r\n",
      "  Downloading https://files.pythonhosted.org/packages/45/6b/44f7f8f1e110027cf88956b59f2fad776cca7e1704396d043f89effd3a0e/typing_extensions-4.1.1-py3-none-any.whl\r\n",
      "Requirement already satisfied, skipping upgrade: six in /opt/conda/lib/python3.6/site-packages (from sacremoses->transformers) (1.13.0)\r\n",
      "Requirement already satisfied, skipping upgrade: click in /opt/conda/lib/python3.6/site-packages (from sacremoses->transformers) (7.0)\r\n",
      "Requirement already satisfied, skipping upgrade: joblib in /opt/conda/lib/python3.6/site-packages (from sacremoses->transformers) (0.14.0)\r\n",
      "Requirement already satisfied, skipping upgrade: pyparsing!=3.0.5,>=2.0.2 in /opt/conda/lib/python3.6/site-packages (from packaging>=20.0->transformers) (2.4.5)\r\n",
      "Requirement already satisfied, skipping upgrade: zipp>=0.5 in /opt/conda/lib/python3.6/site-packages (from importlib-metadata; python_version < \"3.8\"->transformers) (0.6.0)\r\n",
      "Requirement already satisfied, skipping upgrade: pillow>=4.1.1 in /opt/conda/lib/python3.6/site-packages (from torchvision->timm) (5.4.1)\r\n",
      "Requirement already satisfied, skipping upgrade: more-itertools in /opt/conda/lib/python3.6/site-packages (from zipp>=0.5->importlib-metadata; python_version < \"3.8\"->transformers) (7.2.0)\r\n",
      "Building wheels for collected packages: sacremoses\r\n",
      "  Building wheel for sacremoses (setup.py) ... \u001b[?25l-\b \b\\\b \b|\b \bdone\r\n",
      "\u001b[?25h  Created wheel for sacremoses: filename=sacremoses-0.0.53-cp36-none-any.whl size=895254 sha256=294d7b2935f6a5853bcbc4247a55baa83fd252c7db7e0c49402e6b54e5bdbdc7\r\n",
      "  Stored in directory: /root/.cache/pip/wheels/56/d5/b2/bc878b2bbddfbcc8fd62ca73c4fd842bd28c1fd3dbdf424c74\r\n",
      "Successfully built sacremoses\r\n",
      "\u001b[31mERROR: allennlp 0.9.0 requires flaky, which is not installed.\u001b[0m\r\n",
      "\u001b[31mERROR: allennlp 0.9.0 requires responses>=0.7, which is not installed.\u001b[0m\r\n",
      "\u001b[31mERROR: chainer 6.5.0 has requirement typing-extensions<=3.6.6, but you'll have typing-extensions 4.1.1 which is incompatible.\u001b[0m\r\n",
      "\u001b[31mERROR: allennlp 0.9.0 has requirement spacy<2.2,>=2.1.0, but you'll have spacy 2.2.3 which is incompatible.\u001b[0m\r\n",
      "Installing collected packages: tokenizers, typing-extensions, packaging, huggingface-hub, sacremoses, transformers, torch, timm\r\n",
      "  Found existing installation: typing-extensions 3.6.6\r\n",
      "    Uninstalling typing-extensions-3.6.6:\r\n",
      "      Successfully uninstalled typing-extensions-3.6.6\r\n",
      "  Found existing installation: packaging 19.2\r\n",
      "    Uninstalling packaging-19.2:\r\n",
      "      Successfully uninstalled packaging-19.2\r\n",
      "  Found existing installation: torch 1.3.0\r\n",
      "    Uninstalling torch-1.3.0:\r\n",
      "      Successfully uninstalled torch-1.3.0\r\n",
      "Successfully installed huggingface-hub-0.4.0 packaging-21.3 sacremoses-0.0.53 timm-0.6.12 tokenizers-0.12.1 torch-1.10.2 transformers-4.18.0 typing-extensions-4.1.1\r\n"
     ]
    }
   ],
   "source": [
    "!pip install --upgrade transformers timm\n"
   ]
  },
  {
   "cell_type": "code",
   "execution_count": 6,
   "metadata": {
    "execution": {
     "iopub.execute_input": "2025-01-12T21:22:03.236167Z",
     "iopub.status.busy": "2025-01-12T21:22:03.235987Z",
     "iopub.status.idle": "2025-01-12T21:22:09.253832Z",
     "shell.execute_reply": "2025-01-12T21:22:09.253080Z",
     "shell.execute_reply.started": "2025-01-12T21:22:03.236135Z"
    }
   },
   "outputs": [
    {
     "name": "stdout",
     "output_type": "stream",
     "text": [
      "Requirement already up-to-date: transformers in /opt/conda/lib/python3.6/site-packages (4.18.0)\r\n",
      "Requirement already satisfied, skipping upgrade: pyyaml>=5.1 in /opt/conda/lib/python3.6/site-packages (from transformers) (5.1.2)\r\n",
      "Requirement already satisfied, skipping upgrade: requests in /opt/conda/lib/python3.6/site-packages (from transformers) (2.22.0)\r\n",
      "Requirement already satisfied, skipping upgrade: importlib-metadata; python_version < \"3.8\" in /opt/conda/lib/python3.6/site-packages (from transformers) (0.23)\r\n",
      "Requirement already satisfied, skipping upgrade: filelock in /opt/conda/lib/python3.6/site-packages (from transformers) (3.0.12)\r\n",
      "Requirement already satisfied, skipping upgrade: numpy>=1.17 in /opt/conda/lib/python3.6/site-packages (from transformers) (1.17.4)\r\n",
      "Requirement already satisfied, skipping upgrade: packaging>=20.0 in /opt/conda/lib/python3.6/site-packages (from transformers) (21.3)\r\n",
      "Requirement already satisfied, skipping upgrade: sacremoses in /opt/conda/lib/python3.6/site-packages (from transformers) (0.0.53)\r\n",
      "Requirement already satisfied, skipping upgrade: tqdm>=4.27 in /opt/conda/lib/python3.6/site-packages (from transformers) (4.39.0)\r\n",
      "Requirement already satisfied, skipping upgrade: regex!=2019.12.17 in /opt/conda/lib/python3.6/site-packages (from transformers) (2019.11.1)\r\n",
      "Requirement already satisfied, skipping upgrade: tokenizers!=0.11.3,<0.13,>=0.11.1 in /opt/conda/lib/python3.6/site-packages (from transformers) (0.12.1)\r\n",
      "Requirement already satisfied, skipping upgrade: dataclasses; python_version < \"3.7\" in /opt/conda/lib/python3.6/site-packages (from transformers) (0.7)\r\n",
      "Requirement already satisfied, skipping upgrade: huggingface-hub<1.0,>=0.1.0 in /opt/conda/lib/python3.6/site-packages (from transformers) (0.4.0)\r\n",
      "Requirement already satisfied, skipping upgrade: urllib3!=1.25.0,!=1.25.1,<1.26,>=1.21.1 in /opt/conda/lib/python3.6/site-packages (from requests->transformers) (1.24.2)\r\n",
      "Requirement already satisfied, skipping upgrade: certifi>=2017.4.17 in /opt/conda/lib/python3.6/site-packages (from requests->transformers) (2019.9.11)\r\n",
      "Requirement already satisfied, skipping upgrade: chardet<3.1.0,>=3.0.2 in /opt/conda/lib/python3.6/site-packages (from requests->transformers) (3.0.4)\r\n",
      "Requirement already satisfied, skipping upgrade: idna<2.9,>=2.5 in /opt/conda/lib/python3.6/site-packages (from requests->transformers) (2.8)\r\n",
      "Requirement already satisfied, skipping upgrade: zipp>=0.5 in /opt/conda/lib/python3.6/site-packages (from importlib-metadata; python_version < \"3.8\"->transformers) (0.6.0)\r\n",
      "Requirement already satisfied, skipping upgrade: pyparsing!=3.0.5,>=2.0.2 in /opt/conda/lib/python3.6/site-packages (from packaging>=20.0->transformers) (2.4.5)\r\n",
      "Requirement already satisfied, skipping upgrade: joblib in /opt/conda/lib/python3.6/site-packages (from sacremoses->transformers) (0.14.0)\r\n",
      "Requirement already satisfied, skipping upgrade: six in /opt/conda/lib/python3.6/site-packages (from sacremoses->transformers) (1.13.0)\r\n",
      "Requirement already satisfied, skipping upgrade: click in /opt/conda/lib/python3.6/site-packages (from sacremoses->transformers) (7.0)\r\n",
      "Requirement already satisfied, skipping upgrade: typing-extensions>=3.7.4.3 in /opt/conda/lib/python3.6/site-packages (from huggingface-hub<1.0,>=0.1.0->transformers) (4.1.1)\r\n",
      "Requirement already satisfied, skipping upgrade: more-itertools in /opt/conda/lib/python3.6/site-packages (from zipp>=0.5->importlib-metadata; python_version < \"3.8\"->transformers) (7.2.0)\r\n"
     ]
    }
   ],
   "source": [
    "!pip install --upgrade transformers\n"
   ]
  },
  {
   "cell_type": "code",
   "execution_count": null,
   "metadata": {
    "_cell_guid": "b1076dfc-b9ad-4769-8c92-a6c4dae69d19",
    "_uuid": "8f2839f25d086af736a60e9eeb907d3b93b6e0e5",
    "execution": {
     "iopub.execute_input": "2025-01-12T21:22:09.261655Z",
     "iopub.status.busy": "2025-01-12T21:22:09.261351Z",
     "iopub.status.idle": "2025-01-12T21:22:18.605767Z",
     "shell.execute_reply": "2025-01-12T21:22:18.605030Z",
     "shell.execute_reply.started": "2025-01-12T21:22:09.261597Z"
    }
   },
   "outputs": [],
   "source": [
    "import torch\n",
    "from torch import nn, optim\n",
    "from torch.utils.data import DataLoader, Dataset\n",
    "import os\n",
    "import cv2\n",
    "from torchvision import transforms\n",
    "from transformers import ViTForImageClassification, ViTFeatureExtractor\n",
    "import random\n",
    "from sklearn.metrics import confusion_matrix, accuracy_score, f1_score, roc_auc_score, precision_score, recall_score\n",
    "import matplotlib.pyplot as plt\n",
    "import seaborn as sns\n"
   ]
  },
  {
   "cell_type": "code",
   "execution_count": null,
   "metadata": {
    "execution": {
     "iopub.execute_input": "2025-01-12T21:22:18.609200Z",
     "iopub.status.busy": "2025-01-12T21:22:18.608988Z",
     "iopub.status.idle": "2025-01-12T21:22:18.615606Z",
     "shell.execute_reply": "2025-01-12T21:22:18.614924Z",
     "shell.execute_reply.started": "2025-01-12T21:22:18.609163Z"
    }
   },
   "outputs": [],
   "source": [
    "import os \n",
    "\n",
    "metadata_path = '/kaggle/input/dfdc-48/dfdc_train_part_48/metadata.json'\n",
    "input_dir = '/kaggle/input/dfdc-48/dfdc_train_part_48'\n",
    "\n",
    "\n",
    "base_dir = '/kaggle/working/dataset'\n",
    "train_dir = os.path.join(base_dir, 'train')\n",
    "val_dir = os.path.join(base_dir, 'validation')\n",
    "test_dir = os.path.join(base_dir, 'test')\n",
    "\n",
    "\n",
    "def create_split_subdirs(split_dir):\n",
    "    real_dir = os.path.join(split_dir, 'real')\n",
    "    fake_dir = os.path.join(split_dir, 'fake')\n",
    "    real_frame_dir = os.path.join(split_dir, 'real_frame')\n",
    "    fake_frame_dir = os.path.join(split_dir, 'fake_frame')\n",
    "    \n",
    "    os.makedirs(real_dir, exist_ok=True)\n",
    "    os.makedirs(fake_dir, exist_ok=True)\n",
    "    os.makedirs(real_frame_dir, exist_ok=True)\n",
    "    os.makedirs(fake_frame_dir, exist_ok=True)\n",
    "    \n",
    "    return real_dir, fake_dir, real_frame_dir, fake_frame_dir"
   ]
  },
  {
   "cell_type": "code",
   "execution_count": null,
   "metadata": {
    "execution": {
     "iopub.execute_input": "2025-01-12T21:22:18.618849Z",
     "iopub.status.busy": "2025-01-12T21:22:18.618554Z",
     "iopub.status.idle": "2025-01-12T21:22:18.659463Z",
     "shell.execute_reply": "2025-01-12T21:22:18.658920Z",
     "shell.execute_reply.started": "2025-01-12T21:22:18.618792Z"
    }
   },
   "outputs": [],
   "source": [
    "\n",
    "for split_dir in [train_dir, val_dir, test_dir]:\n",
    "    os.makedirs(split_dir, exist_ok=True)\n",
    "    create_split_subdirs(split_dir)\n",
    "\n",
    "\n",
    "import json\n",
    "with open(metadata_path, 'r') as f:\n",
    "    metadata = json.load(f)\n",
    "\n",
    "\n",
    "input_dir = '/kaggle/input/dfdc-48/dfdc_train_part_48'\n",
    "\n",
    "\n",
    "import random\n",
    "from sklearn.model_selection import train_test_split"
   ]
  },
  {
   "cell_type": "code",
   "execution_count": 11,
   "metadata": {
    "execution": {
     "iopub.execute_input": "2025-01-12T21:22:18.661067Z",
     "iopub.status.busy": "2025-01-12T21:22:18.660789Z",
     "iopub.status.idle": "2025-01-12T21:22:18.669726Z",
     "shell.execute_reply": "2025-01-12T21:22:18.669069Z",
     "shell.execute_reply.started": "2025-01-12T21:22:18.661014Z"
    }
   },
   "outputs": [],
   "source": [
    "def split_videos(sample_size=10):\n",
    "    with open(metadata_path, 'r') as f:\n",
    "        metadata = json.load(f)\n",
    "\n",
    "    real_videos, fake_videos = [], []\n",
    "\n",
    "    for video_name, data in metadata.items():\n",
    "        video_path = os.path.join(input_dir, video_name)\n",
    "        if os.path.exists(video_path):\n",
    "            if data['label'] == 'REAL':\n",
    "                real_videos.append((video_path, 'real'))\n",
    "            elif data['label'] == 'FAKE':\n",
    "                fake_videos.append((video_path, 'fake'))\n",
    "\n",
    "    real_videos = random.sample(real_videos, min(len(real_videos), sample_size))\n",
    "    fake_videos = random.sample(fake_videos, min(len(fake_videos), sample_size))\n",
    "\n",
    "    all_videos = real_videos + fake_videos\n",
    "    labels = [1 if v[1] == 'real' else 0 for v in all_videos]\n",
    "\n",
    "    train_videos, temp_videos, train_labels, temp_labels = train_test_split(\n",
    "        all_videos, labels, test_size=0.3, stratify=labels, random_state=42)\n",
    "    val_videos, test_videos, val_labels, test_labels = train_test_split(\n",
    "        temp_videos, temp_labels, test_size=0.5, stratify=temp_labels, random_state=42)\n",
    "    \n",
    "    return train_videos, val_videos, test_videos\n"
   ]
  },
  {
   "cell_type": "code",
   "execution_count": null,
   "metadata": {
    "execution": {
     "iopub.execute_input": "2025-01-12T21:22:18.671123Z",
     "iopub.status.busy": "2025-01-12T21:22:18.670853Z",
     "iopub.status.idle": "2025-01-12T21:22:26.417494Z",
     "shell.execute_reply": "2025-01-12T21:22:26.416835Z",
     "shell.execute_reply.started": "2025-01-12T21:22:18.671071Z"
    }
   },
   "outputs": [
    {
     "name": "stdout",
     "output_type": "stream",
     "text": [
      "Copied uuyyezfcnx.mp4 to /kaggle/working/dataset/train/real\n",
      "Copied bzsxxqcyny.mp4 to /kaggle/working/dataset/train/fake\n",
      "Copied qcbbixyego.mp4 to /kaggle/working/dataset/train/real\n",
      "Copied srtwhbzzlr.mp4 to /kaggle/working/dataset/train/fake\n",
      "Copied sotclwmskg.mp4 to /kaggle/working/dataset/train/real\n",
      "Copied mhvebxvhsx.mp4 to /kaggle/working/dataset/train/real\n",
      "Copied jxnhuoofmp.mp4 to /kaggle/working/dataset/train/fake\n",
      "Copied ewglmznvxe.mp4 to /kaggle/working/dataset/train/fake\n",
      "Copied evirwnkqms.mp4 to /kaggle/working/dataset/train/real\n",
      "Copied jnvycbkaph.mp4 to /kaggle/working/dataset/train/real\n",
      "Copied yjoxcezfmk.mp4 to /kaggle/working/dataset/train/fake\n",
      "Copied idwhtnofel.mp4 to /kaggle/working/dataset/train/real\n",
      "Copied sbrjiwfrtg.mp4 to /kaggle/working/dataset/train/fake\n",
      "Copied pnghtmxjhy.mp4 to /kaggle/working/dataset/train/fake\n",
      "Copied oxbcpirwua.mp4 to /kaggle/working/dataset/validation/real\n",
      "Copied gsxlolioxh.mp4 to /kaggle/working/dataset/validation/real\n",
      "Copied ayqetwwwjn.mp4 to /kaggle/working/dataset/validation/fake\n",
      "Copied tkgbjtcxyl.mp4 to /kaggle/working/dataset/test/fake\n",
      "Copied bwocxfcknz.mp4 to /kaggle/working/dataset/test/fake\n",
      "Copied yeotajbmun.mp4 to /kaggle/working/dataset/test/real\n"
     ]
    }
   ],
   "source": [
    "\n",
    "import shutil\n",
    "def copy_videos_to_split_dirs(videos, split_dir):\n",
    "    real_dir, fake_dir, _, _ = create_split_subdirs(split_dir)\n",
    "    \n",
    "    for video_path, label in videos:\n",
    "        target_dir = real_dir if label == 'real' else fake_dir\n",
    "        video_name = os.path.basename(video_path)\n",
    "        shutil.copy(video_path, os.path.join(target_dir, video_name))\n",
    "        print(f\"Copied {video_name} to {target_dir}\")\n",
    "\n",
    "train_videos, val_videos, test_videos = split_videos()\n",
    "copy_videos_to_split_dirs(train_videos, train_dir)\n",
    "copy_videos_to_split_dirs(val_videos, val_dir)\n",
    "copy_videos_to_split_dirs(test_videos, test_dir)"
   ]
  },
  {
   "cell_type": "code",
   "execution_count": null,
   "metadata": {
    "execution": {
     "iopub.execute_input": "2025-01-12T21:22:26.419082Z",
     "iopub.status.busy": "2025-01-12T21:22:26.418775Z",
     "iopub.status.idle": "2025-01-12T21:22:26.424308Z",
     "shell.execute_reply": "2025-01-12T21:22:26.423632Z",
     "shell.execute_reply.started": "2025-01-12T21:22:26.419022Z"
    }
   },
   "outputs": [],
   "source": [
    "\n",
    "def extract_faces_from_videos(split_dir, frame_skip=10):\n",
    "    real_dir, fake_dir, real_frame_dir, fake_frame_dir = create_split_subdirs(split_dir)\n",
    "    \n",
    "    \n",
    "    for video_name in os.listdir(real_dir):\n",
    "        video_path = os.path.join(real_dir, video_name)\n",
    "        if os.path.isfile(video_path):\n",
    "            extract_faces_from_video(video_path, real_frame_dir, frame_skip)\n",
    "    \n",
    "    \n",
    "    for video_name in os.listdir(fake_dir):\n",
    "        video_path = os.path.join(fake_dir, video_name)\n",
    "        if os.path.isfile(video_path):\n",
    "            extract_faces_from_video(video_path, fake_frame_dir, frame_skip)"
   ]
  },
  {
   "cell_type": "code",
   "execution_count": null,
   "metadata": {
    "execution": {
     "iopub.execute_input": "2025-01-12T21:24:42.582902Z",
     "iopub.status.busy": "2025-01-12T21:24:42.582572Z",
     "iopub.status.idle": "2025-01-12T21:24:42.590770Z",
     "shell.execute_reply": "2025-01-12T21:24:42.590083Z",
     "shell.execute_reply.started": "2025-01-12T21:24:42.582846Z"
    }
   },
   "outputs": [],
   "source": [
    "\n",
    "def extract_faces_from_video(video_path, output_dir, frame_skip=10):\n",
    "    import cv2\n",
    "    cap = cv2.VideoCapture(video_path)\n",
    "    frame_count = 0\n",
    "    face_count = 0\n",
    "\n",
    "    face_cascade = cv2.CascadeClassifier(cv2.data.haarcascades + 'haarcascade_frontalface_default.xml')\n",
    "\n",
    "    while cap.isOpened():\n",
    "        ret, frame = cap.read()\n",
    "        if not ret:\n",
    "            break\n",
    "\n",
    "        frame_count += 1\n",
    "        if frame_count % frame_skip != 0:\n",
    "            continue\n",
    "\n",
    "        gray_frame = cv2.cvtColor(frame, cv2.COLOR_BGR2GRAY)\n",
    "        faces = face_cascade.detectMultiScale(gray_frame, 1.1, 4)\n",
    "\n",
    "        for i, (x, y, w, h) in enumerate(faces):\n",
    "            face = frame[y:y+h, x:x+w]\n",
    "            face_resized = cv2.resize(face, (224, 224))\n",
    "            output_path = os.path.join(output_dir, f\"{os.path.basename(video_path)}_frame{frame_count}_face{i}.jpg\")\n",
    "            cv2.imwrite(output_path, face_resized)\n",
    "            face_count += 1\n",
    "    cap.release()\n",
    "    print(f\"{video_path}: {face_count} faces extracted.\")\n"
   ]
  },
  {
   "cell_type": "code",
   "execution_count": null,
   "metadata": {
    "execution": {
     "iopub.execute_input": "2025-01-12T21:25:14.796774Z",
     "iopub.status.busy": "2025-01-12T21:25:14.796498Z",
     "iopub.status.idle": "2025-01-12T21:28:41.150780Z",
     "shell.execute_reply": "2025-01-12T21:28:41.149780Z",
     "shell.execute_reply.started": "2025-01-12T21:25:14.796735Z"
    }
   },
   "outputs": [
    {
     "name": "stdout",
     "output_type": "stream",
     "text": [
      "\n",
      "Extracting frames from training set...\n",
      "/kaggle/working/dataset/train/real/jnvycbkaph.mp4: 31 faces extracted.\n",
      "/kaggle/working/dataset/train/real/evirwnkqms.mp4: 35 faces extracted.\n",
      "/kaggle/working/dataset/train/real/idwhtnofel.mp4: 25 faces extracted.\n",
      "/kaggle/working/dataset/train/real/mhvebxvhsx.mp4: 32 faces extracted.\n",
      "/kaggle/working/dataset/train/real/sotclwmskg.mp4: 32 faces extracted.\n",
      "/kaggle/working/dataset/train/real/uuyyezfcnx.mp4: 8 faces extracted.\n",
      "/kaggle/working/dataset/train/real/qcbbixyego.mp4: 0 faces extracted.\n",
      "/kaggle/working/dataset/train/fake/pnghtmxjhy.mp4: 63 faces extracted.\n",
      "/kaggle/working/dataset/train/fake/bzsxxqcyny.mp4: 96 faces extracted.\n",
      "/kaggle/working/dataset/train/fake/ewglmznvxe.mp4: 66 faces extracted.\n",
      "/kaggle/working/dataset/train/fake/yjoxcezfmk.mp4: 33 faces extracted.\n",
      "/kaggle/working/dataset/train/fake/jxnhuoofmp.mp4: 59 faces extracted.\n",
      "/kaggle/working/dataset/train/fake/sbrjiwfrtg.mp4: 87 faces extracted.\n",
      "/kaggle/working/dataset/train/fake/srtwhbzzlr.mp4: 99 faces extracted.\n",
      "\n",
      "Extracting frames from validation set...\n",
      "/kaggle/working/dataset/validation/real/oxbcpirwua.mp4: 33 faces extracted.\n",
      "/kaggle/working/dataset/validation/real/gsxlolioxh.mp4: 26 faces extracted.\n",
      "/kaggle/working/dataset/validation/fake/ayqetwwwjn.mp4: 38 faces extracted.\n",
      "\n",
      "Extracting frames from test set...\n",
      "/kaggle/working/dataset/test/real/yeotajbmun.mp4: 97 faces extracted.\n",
      "/kaggle/working/dataset/test/fake/tkgbjtcxyl.mp4: 34 faces extracted.\n",
      "/kaggle/working/dataset/test/fake/bwocxfcknz.mp4: 10 faces extracted.\n"
     ]
    }
   ],
   "source": [
    "\n",
    "print(\"\\nExtracting frames from training set...\")\n",
    "extract_faces_from_videos(train_dir)\n",
    "print(\"\\nExtracting frames from validation set...\")\n",
    "extract_faces_from_videos(val_dir)\n",
    "print(\"\\nExtracting frames from test set...\")\n",
    "extract_faces_from_videos(test_dir)"
   ]
  },
  {
   "cell_type": "code",
   "execution_count": null,
   "metadata": {
    "execution": {
     "iopub.execute_input": "2025-01-12T21:30:29.729178Z",
     "iopub.status.busy": "2025-01-12T21:30:29.728848Z",
     "iopub.status.idle": "2025-01-12T21:30:32.698273Z",
     "shell.execute_reply": "2025-01-12T21:30:32.697638Z",
     "shell.execute_reply.started": "2025-01-12T21:30:29.729125Z"
    }
   },
   "outputs": [],
   "source": [
    "from PIL import Image\n",
    "import os\n",
    "\n",
    "def normalize_images(input_dir, output_dir, image_size=224):\n",
    "    os.makedirs(output_dir, exist_ok=True)\n",
    "    \n",
    "    for img_name in os.listdir(input_dir):\n",
    "        try:\n",
    "            img_path = os.path.join(input_dir, img_name)\n",
    "            img = Image.open(img_path).convert('RGB')  \n",
    "            img = img.resize((image_size, image_size))  \n",
    "            img.save(os.path.join(output_dir, img_name))  \n",
    "        except Exception as e:\n",
    "            print(f\"Error occurred: {img_name} - {e}\")\n",
    "\n",
    "\n",
    "normalize_images(train_dir+\"/fake_frame\",\"norm_train_dir/fake\")\n",
    "normalize_images(train_dir+\"/real_frame\",\"norm_train_dir/real\")\n",
    "normalize_images(test_dir+\"/fake_frame\",\"norm_test_dir/fake\")\n",
    "normalize_images(test_dir+\"/real_frame\",\"norm_test_dir/real\")\n",
    "normalize_images(val_dir+\"/fake_frame\",\"norm_val_dir/fake\")\n",
    "normalize_images(val_dir+\"/real_frame\",\"norm_val_dir/real\")\n"
   ]
  },
  {
   "cell_type": "code",
   "execution_count": null,
   "metadata": {
    "execution": {
     "iopub.execute_input": "2025-01-12T21:30:32.700362Z",
     "iopub.status.busy": "2025-01-12T21:30:32.700039Z",
     "iopub.status.idle": "2025-01-12T21:30:32.710350Z",
     "shell.execute_reply": "2025-01-12T21:30:32.709646Z",
     "shell.execute_reply.started": "2025-01-12T21:30:32.700305Z"
    }
   },
   "outputs": [],
   "source": [
    "\n",
    "transform = transforms.Compose([\n",
    "    transforms.Resize((224, 224)),\n",
    "     transforms.RandomHorizontalFlip(),\n",
    "    transforms.RandomRotation(10),\n",
    "    transforms.ColorJitter(brightness=0.2, contrast=0.2),\n",
    "    transforms.ToTensor(),\n",
    "    transforms.Normalize([0.5], [0.5])\n",
    "])"
   ]
  },
  {
   "cell_type": "code",
   "execution_count": null,
   "metadata": {
    "execution": {
     "iopub.execute_input": "2025-01-12T21:30:33.545062Z",
     "iopub.status.busy": "2025-01-12T21:30:33.544799Z",
     "iopub.status.idle": "2025-01-12T21:30:33.573105Z",
     "shell.execute_reply": "2025-01-12T21:30:33.572330Z",
     "shell.execute_reply.started": "2025-01-12T21:30:33.545023Z"
    }
   },
   "outputs": [
    {
     "name": "stdout",
     "output_type": "stream",
     "text": [
      "Train veri sayısı: 666\n",
      "Test veri sayısı: 141\n",
      "Validation veri sayısı: 97\n",
      "Veri yükleyiciler başarıyla oluşturuldu.\n"
     ]
    }
   ],
   "source": [
    "import os\n",
    "from torch.utils.data import Dataset, DataLoader\n",
    "from torchvision import transforms\n",
    "from PIL import Image\n",
    "\n",
    "class FaceDataset(Dataset):\n",
    "    def __init__(self, norm_dir, transform=None):\n",
    "        self.data = []\n",
    "        self.labels = []\n",
    "        self.transform = transform\n",
    "        \n",
    "        real_dir = os.path.join(norm_dir, 'real')\n",
    "        fake_dir = os.path.join(norm_dir, 'fake')\n",
    "        \n",
    "        \n",
    "        if os.path.exists(real_dir):\n",
    "            for img_name in os.listdir(real_dir):\n",
    "                img_path = os.path.join(real_dir, img_name)\n",
    "                if os.path.isfile(img_path) and img_name.lower().endswith(('.png', '.jpg', '.jpeg')):\n",
    "                    self.data.append(img_path)\n",
    "                    self.labels.append(0)  \n",
    "        \n",
    "        \n",
    "        if os.path.exists(fake_dir):\n",
    "            for img_name in os.listdir(fake_dir):\n",
    "                img_path = os.path.join(fake_dir, img_name)\n",
    "                if os.path.isfile(img_path) and img_name.lower().endswith(('.png', '.jpg', '.jpeg')):\n",
    "                    self.data.append(img_path)\n",
    "                    self.labels.append(1)  \n",
    "\n",
    "        \n",
    "        if len(self.data) == 0:\n",
    "            print(f\"Warning: No data found in the directory {norm_dir}!\")\n",
    "\n",
    "    def __len__(self):\n",
    "        return len(self.data)\n",
    "\n",
    "    def __getitem__(self, idx):\n",
    "        img_path = self.data[idx]\n",
    "        label = self.labels[idx]\n",
    "        \n",
    "        try:\n",
    "            img = Image.open(img_path).convert('RGB')\n",
    "        except Exception as e:\n",
    "            print(f\"Error loading image {img_path}: {str(e)}\")\n",
    "            img = Image.new('RGB', (224, 224))\n",
    "\n",
    "        if self.transform:\n",
    "            img = self.transform(img)\n",
    "\n",
    "        return img, label\n",
    "\n",
    "\n",
    "transform = transforms.Compose([\n",
    "    transforms.Resize((224, 224)),\n",
    "    transforms.ToTensor(),\n",
    "    transforms.Normalize(mean=[0.5, 0.5, 0.5], std=[0.5, 0.5, 0.5])\n",
    "])\n",
    "\n",
    "train_dataset = FaceDataset(\"norm_train_dir\", transform=transform)\n",
    "test_dataset = FaceDataset(\"norm_test_dir\", transform=transform)\n",
    "val_dataset = FaceDataset(\"norm_val_dir\", transform=transform)\n",
    "\n",
    "print(f\"Number of training samples: {len(train_dataset)}\")\n",
    "print(f\"Number of test samples: {len(test_dataset)}\")\n",
    "print(f\"Number of validation samples: {len(val_dataset)}\")\n",
    "\n",
    "if len(train_dataset) == 0 or len(test_dataset) == 0 or len(val_dataset) == 0:\n",
    "    raise ValueError(\"Dataset is empty. Please check the data paths.\")\n",
    "\n",
    "train_loader = DataLoader(train_dataset, batch_size=16, shuffle=True, num_workers=2)\n",
    "test_loader = DataLoader(test_dataset, batch_size=16, shuffle=False, num_workers=2)\n",
    "val_loader = DataLoader(val_dataset, batch_size=16, shuffle=False, num_workers=2)\n",
    "\n",
    "print(\"Data loaders successfully created.\")"
   ]
  },
  {
   "cell_type": "code",
   "execution_count": null,
   "metadata": {
    "execution": {
     "iopub.execute_input": "2025-01-12T21:30:37.554889Z",
     "iopub.status.busy": "2025-01-12T21:30:37.554631Z",
     "iopub.status.idle": "2025-01-12T21:30:53.967822Z",
     "shell.execute_reply": "2025-01-12T21:30:53.967098Z",
     "shell.execute_reply.started": "2025-01-12T21:30:37.554852Z"
    }
   },
   "outputs": [
    {
     "data": {
      "text/plain": [
       "VisionTransformer(\n",
       "  (patch_embed): PatchEmbed(\n",
       "    (proj): Conv2d(3, 768, kernel_size=(16, 16), stride=(16, 16))\n",
       "    (norm): Identity()\n",
       "  )\n",
       "  (pos_drop): Dropout(p=0.0, inplace=False)\n",
       "  (norm_pre): Identity()\n",
       "  (blocks): Sequential(\n",
       "    (0): Block(\n",
       "      (norm1): LayerNorm((768,), eps=1e-06, elementwise_affine=True)\n",
       "      (attn): Attention(\n",
       "        (qkv): Linear(in_features=768, out_features=2304, bias=True)\n",
       "        (attn_drop): Dropout(p=0.0, inplace=False)\n",
       "        (proj): Linear(in_features=768, out_features=768, bias=True)\n",
       "        (proj_drop): Dropout(p=0.0, inplace=False)\n",
       "      )\n",
       "      (ls1): Identity()\n",
       "      (drop_path1): Identity()\n",
       "      (norm2): LayerNorm((768,), eps=1e-06, elementwise_affine=True)\n",
       "      (mlp): Mlp(\n",
       "        (fc1): Linear(in_features=768, out_features=3072, bias=True)\n",
       "        (act): GELU()\n",
       "        (drop1): Dropout(p=0.0, inplace=False)\n",
       "        (fc2): Linear(in_features=3072, out_features=768, bias=True)\n",
       "        (drop2): Dropout(p=0.0, inplace=False)\n",
       "      )\n",
       "      (ls2): Identity()\n",
       "      (drop_path2): Identity()\n",
       "    )\n",
       "    (1): Block(\n",
       "      (norm1): LayerNorm((768,), eps=1e-06, elementwise_affine=True)\n",
       "      (attn): Attention(\n",
       "        (qkv): Linear(in_features=768, out_features=2304, bias=True)\n",
       "        (attn_drop): Dropout(p=0.0, inplace=False)\n",
       "        (proj): Linear(in_features=768, out_features=768, bias=True)\n",
       "        (proj_drop): Dropout(p=0.0, inplace=False)\n",
       "      )\n",
       "      (ls1): Identity()\n",
       "      (drop_path1): Identity()\n",
       "      (norm2): LayerNorm((768,), eps=1e-06, elementwise_affine=True)\n",
       "      (mlp): Mlp(\n",
       "        (fc1): Linear(in_features=768, out_features=3072, bias=True)\n",
       "        (act): GELU()\n",
       "        (drop1): Dropout(p=0.0, inplace=False)\n",
       "        (fc2): Linear(in_features=3072, out_features=768, bias=True)\n",
       "        (drop2): Dropout(p=0.0, inplace=False)\n",
       "      )\n",
       "      (ls2): Identity()\n",
       "      (drop_path2): Identity()\n",
       "    )\n",
       "    (2): Block(\n",
       "      (norm1): LayerNorm((768,), eps=1e-06, elementwise_affine=True)\n",
       "      (attn): Attention(\n",
       "        (qkv): Linear(in_features=768, out_features=2304, bias=True)\n",
       "        (attn_drop): Dropout(p=0.0, inplace=False)\n",
       "        (proj): Linear(in_features=768, out_features=768, bias=True)\n",
       "        (proj_drop): Dropout(p=0.0, inplace=False)\n",
       "      )\n",
       "      (ls1): Identity()\n",
       "      (drop_path1): Identity()\n",
       "      (norm2): LayerNorm((768,), eps=1e-06, elementwise_affine=True)\n",
       "      (mlp): Mlp(\n",
       "        (fc1): Linear(in_features=768, out_features=3072, bias=True)\n",
       "        (act): GELU()\n",
       "        (drop1): Dropout(p=0.0, inplace=False)\n",
       "        (fc2): Linear(in_features=3072, out_features=768, bias=True)\n",
       "        (drop2): Dropout(p=0.0, inplace=False)\n",
       "      )\n",
       "      (ls2): Identity()\n",
       "      (drop_path2): Identity()\n",
       "    )\n",
       "    (3): Block(\n",
       "      (norm1): LayerNorm((768,), eps=1e-06, elementwise_affine=True)\n",
       "      (attn): Attention(\n",
       "        (qkv): Linear(in_features=768, out_features=2304, bias=True)\n",
       "        (attn_drop): Dropout(p=0.0, inplace=False)\n",
       "        (proj): Linear(in_features=768, out_features=768, bias=True)\n",
       "        (proj_drop): Dropout(p=0.0, inplace=False)\n",
       "      )\n",
       "      (ls1): Identity()\n",
       "      (drop_path1): Identity()\n",
       "      (norm2): LayerNorm((768,), eps=1e-06, elementwise_affine=True)\n",
       "      (mlp): Mlp(\n",
       "        (fc1): Linear(in_features=768, out_features=3072, bias=True)\n",
       "        (act): GELU()\n",
       "        (drop1): Dropout(p=0.0, inplace=False)\n",
       "        (fc2): Linear(in_features=3072, out_features=768, bias=True)\n",
       "        (drop2): Dropout(p=0.0, inplace=False)\n",
       "      )\n",
       "      (ls2): Identity()\n",
       "      (drop_path2): Identity()\n",
       "    )\n",
       "    (4): Block(\n",
       "      (norm1): LayerNorm((768,), eps=1e-06, elementwise_affine=True)\n",
       "      (attn): Attention(\n",
       "        (qkv): Linear(in_features=768, out_features=2304, bias=True)\n",
       "        (attn_drop): Dropout(p=0.0, inplace=False)\n",
       "        (proj): Linear(in_features=768, out_features=768, bias=True)\n",
       "        (proj_drop): Dropout(p=0.0, inplace=False)\n",
       "      )\n",
       "      (ls1): Identity()\n",
       "      (drop_path1): Identity()\n",
       "      (norm2): LayerNorm((768,), eps=1e-06, elementwise_affine=True)\n",
       "      (mlp): Mlp(\n",
       "        (fc1): Linear(in_features=768, out_features=3072, bias=True)\n",
       "        (act): GELU()\n",
       "        (drop1): Dropout(p=0.0, inplace=False)\n",
       "        (fc2): Linear(in_features=3072, out_features=768, bias=True)\n",
       "        (drop2): Dropout(p=0.0, inplace=False)\n",
       "      )\n",
       "      (ls2): Identity()\n",
       "      (drop_path2): Identity()\n",
       "    )\n",
       "    (5): Block(\n",
       "      (norm1): LayerNorm((768,), eps=1e-06, elementwise_affine=True)\n",
       "      (attn): Attention(\n",
       "        (qkv): Linear(in_features=768, out_features=2304, bias=True)\n",
       "        (attn_drop): Dropout(p=0.0, inplace=False)\n",
       "        (proj): Linear(in_features=768, out_features=768, bias=True)\n",
       "        (proj_drop): Dropout(p=0.0, inplace=False)\n",
       "      )\n",
       "      (ls1): Identity()\n",
       "      (drop_path1): Identity()\n",
       "      (norm2): LayerNorm((768,), eps=1e-06, elementwise_affine=True)\n",
       "      (mlp): Mlp(\n",
       "        (fc1): Linear(in_features=768, out_features=3072, bias=True)\n",
       "        (act): GELU()\n",
       "        (drop1): Dropout(p=0.0, inplace=False)\n",
       "        (fc2): Linear(in_features=3072, out_features=768, bias=True)\n",
       "        (drop2): Dropout(p=0.0, inplace=False)\n",
       "      )\n",
       "      (ls2): Identity()\n",
       "      (drop_path2): Identity()\n",
       "    )\n",
       "    (6): Block(\n",
       "      (norm1): LayerNorm((768,), eps=1e-06, elementwise_affine=True)\n",
       "      (attn): Attention(\n",
       "        (qkv): Linear(in_features=768, out_features=2304, bias=True)\n",
       "        (attn_drop): Dropout(p=0.0, inplace=False)\n",
       "        (proj): Linear(in_features=768, out_features=768, bias=True)\n",
       "        (proj_drop): Dropout(p=0.0, inplace=False)\n",
       "      )\n",
       "      (ls1): Identity()\n",
       "      (drop_path1): Identity()\n",
       "      (norm2): LayerNorm((768,), eps=1e-06, elementwise_affine=True)\n",
       "      (mlp): Mlp(\n",
       "        (fc1): Linear(in_features=768, out_features=3072, bias=True)\n",
       "        (act): GELU()\n",
       "        (drop1): Dropout(p=0.0, inplace=False)\n",
       "        (fc2): Linear(in_features=3072, out_features=768, bias=True)\n",
       "        (drop2): Dropout(p=0.0, inplace=False)\n",
       "      )\n",
       "      (ls2): Identity()\n",
       "      (drop_path2): Identity()\n",
       "    )\n",
       "    (7): Block(\n",
       "      (norm1): LayerNorm((768,), eps=1e-06, elementwise_affine=True)\n",
       "      (attn): Attention(\n",
       "        (qkv): Linear(in_features=768, out_features=2304, bias=True)\n",
       "        (attn_drop): Dropout(p=0.0, inplace=False)\n",
       "        (proj): Linear(in_features=768, out_features=768, bias=True)\n",
       "        (proj_drop): Dropout(p=0.0, inplace=False)\n",
       "      )\n",
       "      (ls1): Identity()\n",
       "      (drop_path1): Identity()\n",
       "      (norm2): LayerNorm((768,), eps=1e-06, elementwise_affine=True)\n",
       "      (mlp): Mlp(\n",
       "        (fc1): Linear(in_features=768, out_features=3072, bias=True)\n",
       "        (act): GELU()\n",
       "        (drop1): Dropout(p=0.0, inplace=False)\n",
       "        (fc2): Linear(in_features=3072, out_features=768, bias=True)\n",
       "        (drop2): Dropout(p=0.0, inplace=False)\n",
       "      )\n",
       "      (ls2): Identity()\n",
       "      (drop_path2): Identity()\n",
       "    )\n",
       "    (8): Block(\n",
       "      (norm1): LayerNorm((768,), eps=1e-06, elementwise_affine=True)\n",
       "      (attn): Attention(\n",
       "        (qkv): Linear(in_features=768, out_features=2304, bias=True)\n",
       "        (attn_drop): Dropout(p=0.0, inplace=False)\n",
       "        (proj): Linear(in_features=768, out_features=768, bias=True)\n",
       "        (proj_drop): Dropout(p=0.0, inplace=False)\n",
       "      )\n",
       "      (ls1): Identity()\n",
       "      (drop_path1): Identity()\n",
       "      (norm2): LayerNorm((768,), eps=1e-06, elementwise_affine=True)\n",
       "      (mlp): Mlp(\n",
       "        (fc1): Linear(in_features=768, out_features=3072, bias=True)\n",
       "        (act): GELU()\n",
       "        (drop1): Dropout(p=0.0, inplace=False)\n",
       "        (fc2): Linear(in_features=3072, out_features=768, bias=True)\n",
       "        (drop2): Dropout(p=0.0, inplace=False)\n",
       "      )\n",
       "      (ls2): Identity()\n",
       "      (drop_path2): Identity()\n",
       "    )\n",
       "    (9): Block(\n",
       "      (norm1): LayerNorm((768,), eps=1e-06, elementwise_affine=True)\n",
       "      (attn): Attention(\n",
       "        (qkv): Linear(in_features=768, out_features=2304, bias=True)\n",
       "        (attn_drop): Dropout(p=0.0, inplace=False)\n",
       "        (proj): Linear(in_features=768, out_features=768, bias=True)\n",
       "        (proj_drop): Dropout(p=0.0, inplace=False)\n",
       "      )\n",
       "      (ls1): Identity()\n",
       "      (drop_path1): Identity()\n",
       "      (norm2): LayerNorm((768,), eps=1e-06, elementwise_affine=True)\n",
       "      (mlp): Mlp(\n",
       "        (fc1): Linear(in_features=768, out_features=3072, bias=True)\n",
       "        (act): GELU()\n",
       "        (drop1): Dropout(p=0.0, inplace=False)\n",
       "        (fc2): Linear(in_features=3072, out_features=768, bias=True)\n",
       "        (drop2): Dropout(p=0.0, inplace=False)\n",
       "      )\n",
       "      (ls2): Identity()\n",
       "      (drop_path2): Identity()\n",
       "    )\n",
       "    (10): Block(\n",
       "      (norm1): LayerNorm((768,), eps=1e-06, elementwise_affine=True)\n",
       "      (attn): Attention(\n",
       "        (qkv): Linear(in_features=768, out_features=2304, bias=True)\n",
       "        (attn_drop): Dropout(p=0.0, inplace=False)\n",
       "        (proj): Linear(in_features=768, out_features=768, bias=True)\n",
       "        (proj_drop): Dropout(p=0.0, inplace=False)\n",
       "      )\n",
       "      (ls1): Identity()\n",
       "      (drop_path1): Identity()\n",
       "      (norm2): LayerNorm((768,), eps=1e-06, elementwise_affine=True)\n",
       "      (mlp): Mlp(\n",
       "        (fc1): Linear(in_features=768, out_features=3072, bias=True)\n",
       "        (act): GELU()\n",
       "        (drop1): Dropout(p=0.0, inplace=False)\n",
       "        (fc2): Linear(in_features=3072, out_features=768, bias=True)\n",
       "        (drop2): Dropout(p=0.0, inplace=False)\n",
       "      )\n",
       "      (ls2): Identity()\n",
       "      (drop_path2): Identity()\n",
       "    )\n",
       "    (11): Block(\n",
       "      (norm1): LayerNorm((768,), eps=1e-06, elementwise_affine=True)\n",
       "      (attn): Attention(\n",
       "        (qkv): Linear(in_features=768, out_features=2304, bias=True)\n",
       "        (attn_drop): Dropout(p=0.0, inplace=False)\n",
       "        (proj): Linear(in_features=768, out_features=768, bias=True)\n",
       "        (proj_drop): Dropout(p=0.0, inplace=False)\n",
       "      )\n",
       "      (ls1): Identity()\n",
       "      (drop_path1): Identity()\n",
       "      (norm2): LayerNorm((768,), eps=1e-06, elementwise_affine=True)\n",
       "      (mlp): Mlp(\n",
       "        (fc1): Linear(in_features=768, out_features=3072, bias=True)\n",
       "        (act): GELU()\n",
       "        (drop1): Dropout(p=0.0, inplace=False)\n",
       "        (fc2): Linear(in_features=3072, out_features=768, bias=True)\n",
       "        (drop2): Dropout(p=0.0, inplace=False)\n",
       "      )\n",
       "      (ls2): Identity()\n",
       "      (drop_path2): Identity()\n",
       "    )\n",
       "  )\n",
       "  (norm): LayerNorm((768,), eps=1e-06, elementwise_affine=True)\n",
       "  (fc_norm): Identity()\n",
       "  (head): Sequential(\n",
       "    (0): Dropout(p=0.3, inplace=False)\n",
       "    (1): Linear(in_features=768, out_features=2, bias=True)\n",
       "  )\n",
       ")"
      ]
     },
     "execution_count": 20,
     "metadata": {},
     "output_type": "execute_result"
    }
   ],
   "source": [
    "\n",
    "import timm\n",
    "import torch\n",
    "\n",
    "device = torch.device(\"cuda\" if torch.cuda.is_available() else \"cpu\")\n",
    "vit_model = timm.create_model('vit_base_patch16_224', pretrained=True)\n",
    "vit_model.head = torch.nn.Sequential(\n",
    "    torch.nn.Dropout(0.3),\n",
    "    torch.nn.Linear(in_features=768, out_features=2)\n",
    ")\n",
    "vit_model.to(device)"
   ]
  },
  {
   "cell_type": "code",
   "execution_count": null,
   "metadata": {
    "execution": {
     "iopub.execute_input": "2025-01-12T21:30:53.970342Z",
     "iopub.status.busy": "2025-01-12T21:30:53.970019Z",
     "iopub.status.idle": "2025-01-12T21:30:53.982803Z",
     "shell.execute_reply": "2025-01-12T21:30:53.982068Z",
     "shell.execute_reply.started": "2025-01-12T21:30:53.970280Z"
    }
   },
   "outputs": [],
   "source": [
    "def train_model(model, train_loader, val_loader, criterion, optimizer, num_epochs):\n",
    "    \n",
    "    train_losses = []\n",
    "    train_accuracies = []\n",
    "    val_losses = []\n",
    "    val_accuracies = []\n",
    "    \n",
    "    for epoch in range(num_epochs):\n",
    "        \n",
    "        model.train()\n",
    "        \n",
    "        running_loss = 0.0\n",
    "        correct_predictions = 0\n",
    "        total_samples = 0\n",
    "        \n",
    "        for images, labels in train_loader:\n",
    "            images, labels = images.to(device), labels.to(device)\n",
    "            \n",
    "            \n",
    "            optimizer.zero_grad()\n",
    "            \n",
    "            \n",
    "            outputs = model(images)\n",
    "            \n",
    "            \n",
    "            loss = criterion(outputs, labels)\n",
    "            \n",
    "            \n",
    "            loss.backward()\n",
    "            optimizer.step()\n",
    "            \n",
    "            running_loss += loss.item()\n",
    "            \n",
    "            \n",
    "            _, predicted = torch.max(outputs, 1)\n",
    "            correct_predictions += (predicted == labels).sum().item()\n",
    "            total_samples += labels.size(0)\n",
    "        \n",
    "        \n",
    "        train_loss = running_loss / len(train_loader)\n",
    "        train_accuracy = correct_predictions / total_samples\n",
    "        \n",
    "        \n",
    "        train_losses.append(train_loss)\n",
    "        train_accuracies.append(train_accuracy)\n",
    "        \n",
    "        \n",
    "        val_loss, val_accuracy = evaluate_model(model, val_loader, criterion)\n",
    "        val_losses.append(val_loss)\n",
    "        val_accuracies.append(val_accuracy)\n",
    "        \n",
    "        print(f\"Epoch [{epoch+1}/{num_epochs}] | \"\n",
    "              f\"Train Loss: {train_loss:.4f}, Train Accuracy: {train_accuracy:.4f} | \"\n",
    "              f\"Validation Loss: {val_loss:.4f}, Validation Accuracy: {val_accuracy:.4f}\")\n",
    "    \n",
    "    \n",
    "    history = {\n",
    "        'train_loss': train_losses,\n",
    "        'train_accuracy': train_accuracies,\n",
    "        'val_loss': val_losses,\n",
    "        'val_accuracy': val_accuracies\n",
    "    }\n",
    "    \n",
    "    return history\n",
    "\n",
    "def evaluate_model(model, loader, criterion):\n",
    "    model.eval()\n",
    "    correct_predictions = 0\n",
    "    total_samples = 0\n",
    "    total_loss = 0.0\n",
    "\n",
    "    with torch.no_grad():\n",
    "        for images, labels in loader:\n",
    "            images, labels = images.to(device), labels.to(device)\n",
    "            \n",
    "            \n",
    "            outputs = model(images)\n",
    "            loss = criterion(outputs, labels)\n",
    "            total_loss += loss.item()\n",
    "            \n",
    "            \n",
    "            _, predicted = torch.max(outputs, 1)\n",
    "            correct_predictions += (predicted == labels).sum().item()\n",
    "            total_samples += labels.size(0)\n",
    "    \n",
    "    avg_loss = total_loss / len(loader)\n",
    "    accuracy = correct_predictions / total_samples\n",
    "    return avg_loss, accuracy"
   ]
  },
  {
   "cell_type": "code",
   "execution_count": null,
   "metadata": {
    "execution": {
     "iopub.execute_input": "2025-01-12T21:30:53.984359Z",
     "iopub.status.busy": "2025-01-12T21:30:53.984129Z",
     "iopub.status.idle": "2025-01-12T21:30:53.997863Z",
     "shell.execute_reply": "2025-01-12T21:30:53.997320Z",
     "shell.execute_reply.started": "2025-01-12T21:30:53.984313Z"
    }
   },
   "outputs": [],
   "source": [
    "\n",
    "def test_model(model, test_loader, criterion):\n",
    "    print(\"\\nEvaluating on the test set...\")\n",
    "    test_loss, test_accuracy = evaluate_model(model, test_loader, criterion)\n",
    "    print(f\"Test Loss: {test_loss:.4f}, Test Accuracy: {test_accuracy:.4f}\")\n",
    "    return test_loss, test_accuracy\n",
    "    \n",
    "def evaluate_train_data(model, train_loader):\n",
    "    model.eval()  \n",
    "    correct_predictions = 0\n",
    "    total_samples = 0\n",
    "    criterion = nn.CrossEntropyLoss()\n",
    "    total_loss = 0.0\n",
    "\n",
    "    with torch.no_grad():\n",
    "        for images, labels in train_loader:\n",
    "            images, labels = images.to(device), labels.to(device)\n",
    "            \n",
    "            \n",
    "            outputs = model(images)\n",
    "            loss = criterion(outputs, labels)\n",
    "            total_loss += loss.item()\n",
    "            \n",
    "            \n",
    "            _, predicted = torch.max(outputs, 1)\n",
    "            correct_predictions += (predicted == labels).sum().item()\n",
    "            total_samples += labels.size(0)\n",
    "    \n",
    "    \n",
    "    avg_loss = total_loss / len(train_loader)\n",
    "    accuracy = correct_predictions / total_samples\n",
    "    print(f\"Train Loss: {avg_loss:.4f}, Train Accuracy: {accuracy:.4f}\")"
   ]
  },
  {
   "cell_type": "code",
   "execution_count": null,
   "metadata": {
    "execution": {
     "iopub.execute_input": "2025-01-12T21:30:53.999039Z",
     "iopub.status.busy": "2025-01-12T21:30:53.998818Z",
     "iopub.status.idle": "2025-01-12T21:30:54.015210Z",
     "shell.execute_reply": "2025-01-12T21:30:54.014574Z",
     "shell.execute_reply.started": "2025-01-12T21:30:53.998995Z"
    }
   },
   "outputs": [],
   "source": [
    "\n",
    "def save_model(model, file_path):\n",
    "    torch.save(model.state_dict(), file_path)\n",
    "    print(f\"Model saved to {file_path}.\")\n",
    "\n",
    "\n",
    "def load_model(file_path, model):\n",
    "    model.load_state_dict(torch.load(file_path))\n",
    "    model = model.to(device)\n",
    "    model.eval()\n",
    "    print(f\"Model loaded from {file_path}.\")\n",
    "    return model\n"
   ]
  },
  {
   "cell_type": "code",
   "execution_count": null,
   "metadata": {
    "execution": {
     "iopub.execute_input": "2025-01-12T21:30:54.017154Z",
     "iopub.status.busy": "2025-01-12T21:30:54.016917Z",
     "iopub.status.idle": "2025-01-12T21:30:54.025100Z",
     "shell.execute_reply": "2025-01-12T21:30:54.024495Z",
     "shell.execute_reply.started": "2025-01-12T21:30:54.017103Z"
    }
   },
   "outputs": [],
   "source": [
    "\n",
    "from torch.optim.lr_scheduler import ReduceLROnPlateau\n"
   ]
  },
  {
   "cell_type": "code",
   "execution_count": null,
   "metadata": {
    "execution": {
     "iopub.execute_input": "2025-01-12T21:30:54.026700Z",
     "iopub.status.busy": "2025-01-12T21:30:54.026312Z",
     "iopub.status.idle": "2025-01-12T21:30:54.037665Z",
     "shell.execute_reply": "2025-01-12T21:30:54.037027Z",
     "shell.execute_reply.started": "2025-01-12T21:30:54.026501Z"
    }
   },
   "outputs": [],
   "source": [
    "\n",
    "class EarlyStopping:\n",
    "    def __init__(self, patience=5, verbose=False):\n",
    "\n",
    "        self.patience = patience\n",
    "        self.verbose = verbose\n",
    "        self.best_loss = None\n",
    "        self.counter = 0\n",
    "        self.early_stop = False\n",
    "\n",
    "    def __call__(self, val_loss):\n",
    "        if self.best_loss is None:\n",
    "            self.best_loss = val_loss\n",
    "        elif val_loss > self.best_loss:\n",
    "            self.counter += 1\n",
    "            if self.verbose:\n",
    "                print(f\"EarlyStopping counter: {self.counter}/{self.patience}\")\n",
    "            if self.counter >= self.patience:\n",
    "                self.early_stop = True\n",
    "        else:\n",
    "            self.best_loss = val_loss\n",
    "            self.counter = 0\n"
   ]
  },
  {
   "cell_type": "code",
   "execution_count": null,
   "metadata": {
    "execution": {
     "iopub.execute_input": "2025-01-12T21:30:54.039195Z",
     "iopub.status.busy": "2025-01-12T21:30:54.038948Z",
     "iopub.status.idle": "2025-01-12T21:34:23.011091Z",
     "shell.execute_reply": "2025-01-12T21:34:23.010176Z",
     "shell.execute_reply.started": "2025-01-12T21:30:54.039148Z"
    }
   },
   "outputs": [
    {
     "name": "stdout",
     "output_type": "stream",
     "text": [
      "Epoch [1/10] | Train Loss: 0.3423, Train Accuracy: 0.8844 | Validation Loss: 2.0446, Validation Accuracy: 0.7216\n",
      "Epoch [2/10] | Train Loss: 0.1526, Train Accuracy: 0.9474 | Validation Loss: 0.7547, Validation Accuracy: 0.7835\n",
      "EarlyStopping counter: 1/40\n",
      "Epoch [3/10] | Train Loss: 0.1018, Train Accuracy: 0.9670 | Validation Loss: 1.0258, Validation Accuracy: 0.6082\n",
      "EarlyStopping counter: 2/40\n",
      "Epoch [4/10] | Train Loss: 0.0643, Train Accuracy: 0.9685 | Validation Loss: 2.6662, Validation Accuracy: 0.7216\n",
      "EarlyStopping counter: 3/40\n",
      "Epoch [5/10] | Train Loss: 0.0524, Train Accuracy: 0.9835 | Validation Loss: 1.8870, Validation Accuracy: 0.7216\n",
      "Epoch     6: reducing learning rate of group 0 to 5.0000e-06.\n",
      "EarlyStopping counter: 4/40\n",
      "Epoch [6/10] | Train Loss: 0.0728, Train Accuracy: 0.9790 | Validation Loss: 1.4551, Validation Accuracy: 0.7320\n",
      "EarlyStopping counter: 5/40\n",
      "Epoch [7/10] | Train Loss: 0.0293, Train Accuracy: 0.9865 | Validation Loss: 2.2121, Validation Accuracy: 0.7113\n",
      "EarlyStopping counter: 6/40\n",
      "Epoch [8/10] | Train Loss: 0.0432, Train Accuracy: 0.9805 | Validation Loss: 2.4652, Validation Accuracy: 0.7113\n",
      "EarlyStopping counter: 7/40\n",
      "Epoch [9/10] | Train Loss: 0.0262, Train Accuracy: 0.9895 | Validation Loss: 2.5676, Validation Accuracy: 0.7113\n",
      "Epoch    10: reducing learning rate of group 0 to 5.0000e-07.\n",
      "EarlyStopping counter: 8/40\n",
      "Epoch [10/10] | Train Loss: 0.0073, Train Accuracy: 0.9985 | Validation Loss: 2.6046, Validation Accuracy: 0.7113\n",
      "Model başarıyla eğitildi!\n",
      "CPU times: user 1min 18s, sys: 59.6 s, total: 2min 18s\n",
      "Wall time: 2min 20s\n"
     ]
    }
   ],
   "source": [
    "%%time\n",
    "\n",
    "criterion = torch.nn.CrossEntropyLoss()\n",
    "optimizer = torch.optim.Adam(vit_model.parameters(), lr=5e-5)\n",
    "scheduler = ReduceLROnPlateau(optimizer, mode='min', factor=0.1, patience=3, verbose=True)\n",
    "\n",
    "\n",
    "vit_model = vit_model.to(device)\n",
    "\n",
    "\n",
    "early_stopping = EarlyStopping(patience=40, verbose=True)\n",
    "\n",
    "\n",
    "history = []\n",
    "\n",
    "num_epochs = 10\n",
    "for epoch in range(num_epochs):\n",
    "    vit_model.train()\n",
    "    running_loss = 0.0\n",
    "    correct_predictions = 0\n",
    "    total_samples = 0\n",
    "    \n",
    "    for images, labels in train_loader:\n",
    "        images, labels = images.to(device), labels.to(device)\n",
    "        optimizer.zero_grad()\n",
    "        outputs = vit_model(images)\n",
    "        loss = criterion(outputs, labels)\n",
    "        loss.backward()\n",
    "        optimizer.step()\n",
    "\n",
    "        running_loss += loss.item()\n",
    "        _, predicted = outputs.max(1)\n",
    "        correct_predictions += predicted.eq(labels).sum().item()\n",
    "        total_samples += labels.size(0)\n",
    "\n",
    "    \n",
    "    train_loss = running_loss / len(train_loader)\n",
    "    train_accuracy = correct_predictions / total_samples\n",
    "\n",
    "    \n",
    "    val_loss, val_accuracy = evaluate_model(vit_model, val_loader, criterion)\n",
    "\n",
    "    \n",
    "    scheduler.step(val_loss)\n",
    "\n",
    "    \n",
    "    early_stopping(val_loss)\n",
    "    if early_stopping.early_stop:\n",
    "        print(\"Early stopping triggered\")\n",
    "        break\n",
    "\n",
    "    \n",
    "    history.append({\n",
    "        'epoch': epoch + 1,\n",
    "        'train_loss': train_loss,\n",
    "        'train_accuracy': train_accuracy,\n",
    "        'val_loss': val_loss,\n",
    "        'val_accuracy': val_accuracy\n",
    "    })\n",
    "\n",
    "    print(f\"Epoch [{epoch+1}/10] | \"\n",
    "          f\"Train Loss: {train_loss:.4f}, Train Accuracy: {train_accuracy:.4f} | \"\n",
    "          f\"Validation Loss: {val_loss:.4f}, Validation Accuracy: {val_accuracy:.4f}\")\n",
    "\n",
    "print(\"Model trained successfully!\")"
   ]
  },
  {
   "cell_type": "code",
   "execution_count": null,
   "metadata": {
    "execution": {
     "iopub.execute_input": "2025-01-12T21:34:23.013573Z",
     "iopub.status.busy": "2025-01-12T21:34:23.013298Z",
     "iopub.status.idle": "2025-01-12T21:34:24.113086Z",
     "shell.execute_reply": "2025-01-12T21:34:24.112274Z",
     "shell.execute_reply.started": "2025-01-12T21:34:23.013496Z"
    }
   },
   "outputs": [
    {
     "name": "stdout",
     "output_type": "stream",
     "text": [
      "\n",
      "Test seti üzerinde değerlendiriliyor...\n",
      "Test Loss: 8.2367, Test Accuracy: 0.2199\n"
     ]
    }
   ],
   "source": [
    "test_loss, test_accuracy = test_model(vit_model, test_loader, criterion)"
   ]
  },
  {
   "cell_type": "code",
   "execution_count": null,
   "metadata": {
    "execution": {
     "iopub.execute_input": "2025-01-12T21:34:24.116670Z",
     "iopub.status.busy": "2025-01-12T21:34:24.116233Z",
     "iopub.status.idle": "2025-01-12T21:34:24.617918Z",
     "shell.execute_reply": "2025-01-12T21:34:24.617081Z",
     "shell.execute_reply.started": "2025-01-12T21:34:24.116505Z"
    }
   },
   "outputs": [
    {
     "name": "stdout",
     "output_type": "stream",
     "text": [
      "Model /kaggle/working/vit_deepfake.pth konumuna kaydedildi.\n"
     ]
    }
   ],
   "source": [
    "\n",
    "save_model(vit_model, '/kaggle/working/vit_deepfake.pth')"
   ]
  },
  {
   "cell_type": "code",
   "execution_count": null,
   "metadata": {
    "execution": {
     "iopub.execute_input": "2025-01-12T21:34:24.619401Z",
     "iopub.status.busy": "2025-01-12T21:34:24.619165Z",
     "iopub.status.idle": "2025-01-12T21:34:31.761434Z",
     "shell.execute_reply": "2025-01-12T21:34:31.760340Z",
     "shell.execute_reply.started": "2025-01-12T21:34:24.619362Z"
    }
   },
   "outputs": [
    {
     "data": {
      "image/png": "[encoded data removed]",
      "text/plain": [
       "<Figure size 432x288 with 2 Axes>"
      ]
     },
     "metadata": {
      "needs_background": "light"
     },
     "output_type": "display_data"
    },
    {
     "name": "stdout",
     "output_type": "stream",
     "text": [
      "Accuracy: 1.00\n",
      "F1 Score: 1.00\n",
      "AUC: 1.00\n"
     ]
    }
   ],
   "source": [
    "\n",
    "vit_model.eval()\n",
    "y_true = []\n",
    "y_pred = []\n",
    "for images, labels in train_loader:\n",
    "    images, labels = images.to(device), labels.to(device)\n",
    "    with torch.no_grad():\n",
    "        outputs = vit_model(images)\n",
    "        _, predicted = outputs.max(1)\n",
    "        y_true.extend(labels.cpu().numpy())\n",
    "        y_pred.extend(predicted.cpu().numpy())\n",
    "\n",
    "cm = confusion_matrix(y_true, y_pred)\n",
    "sns.heatmap(cm, annot=True, fmt='d')\n",
    "plt.title('Confusion Matrix')\n",
    "plt.show()\n",
    "\n",
    "print(f\"Accuracy: {accuracy_score(y_true, y_pred):.2f}\")\n",
    "print(f\"F1 Score: {f1_score(y_true, y_pred):.2f}\")\n",
    "print(f\"AUC: {roc_auc_score(y_true, y_pred):.2f}\")"
   ]
  },
  {
   "cell_type": "code",
   "execution_count": null,
   "metadata": {
    "execution": {
     "iopub.execute_input": "2025-01-12T21:34:31.763540Z",
     "iopub.status.busy": "2025-01-12T21:34:31.763129Z",
     "iopub.status.idle": "2025-01-12T21:34:32.867283Z",
     "shell.execute_reply": "2025-01-12T21:34:32.866333Z",
     "shell.execute_reply.started": "2025-01-12T21:34:31.763456Z"
    }
   },
   "outputs": [
    {
     "name": "stdout",
     "output_type": "stream",
     "text": [
      "Confusion Matrix:\n",
      " [[ 0 97]\n",
      " [13 31]]\n",
      "Classification Report:\n",
      "               precision    recall  f1-score   support\n",
      "\n",
      "           0       0.00      0.00      0.00        97\n",
      "           1       0.24      0.70      0.36        44\n",
      "\n",
      "    accuracy                           0.22       141\n",
      "   macro avg       0.12      0.35      0.18       141\n",
      "weighted avg       0.08      0.22      0.11       141\n",
      "\n"
     ]
    }
   ],
   "source": [
    "from sklearn.metrics import confusion_matrix, classification_report\n",
    "\n",
    "\n",
    "y_true = []\n",
    "y_pred = []\n",
    "\n",
    "vit_model.eval()\n",
    "with torch.no_grad():\n",
    "    for images, labels in test_loader:\n",
    "        images, labels = images.to(device), labels.to(device)\n",
    "        outputs = vit_model(images)\n",
    "        _, predicted = torch.max(outputs, 1)\n",
    "        \n",
    "        y_true.extend(labels.cpu().numpy())\n",
    "        y_pred.extend(predicted.cpu().numpy())\n",
    "\n",
    "\n",
    "cm = confusion_matrix(y_true, y_pred)\n",
    "print(\"Confusion Matrix:\\n\", cm)\n",
    "\n",
    "\n",
    "cr = classification_report(y_true, y_pred)\n",
    "print(\"Classification Report:\\n\", cr)"
   ]
  },
  {
   "cell_type": "code",
   "execution_count": null,
   "metadata": {
    "execution": {
     "iopub.execute_input": "2025-01-12T21:34:32.869135Z",
     "iopub.status.busy": "2025-01-12T21:34:32.868879Z",
     "iopub.status.idle": "2025-01-12T21:34:32.880439Z",
     "shell.execute_reply": "2025-01-12T21:34:32.879772Z",
     "shell.execute_reply.started": "2025-01-12T21:34:32.869081Z"
    }
   },
   "outputs": [],
   "source": [
    "import torch\n",
    "import cv2\n",
    "import os\n",
    "from torchvision import transforms\n",
    "from PIL import Image\n",
    "import numpy as np\n",
    "\n",
    "def test_video(video_path, vit_model, transform, device, frame_skip=10):\n",
    "\n",
    "    vit_model.eval()  \n",
    "    cap = cv2.VideoCapture(video_path)\n",
    "    frame_count = 0\n",
    "    predictions = []\n",
    "\n",
    "    face_cascade = cv2.CascadeClassifier(cv2.data.haarcascades + 'haarcascade_frontalface_default.xml')\n",
    "\n",
    "    while cap.isOpened():\n",
    "        ret, frame = cap.read()\n",
    "        if not ret:\n",
    "            break  \n",
    "        \n",
    "        frame_count += 1\n",
    "        \n",
    "        \n",
    "        if frame_count % frame_skip != 0:\n",
    "            continue\n",
    "\n",
    "        \n",
    "        gray_frame = cv2.cvtColor(frame, cv2.COLOR_BGR2GRAY)\n",
    "        faces = face_cascade.detectMultiScale(gray_frame, 1.1, 4)\n",
    "\n",
    "        \n",
    "        for (x, y, w, h) in faces:\n",
    "            face = frame[y:y+h, x:x+w]\n",
    "            face_resized = cv2.resize(face, (224, 224))\n",
    "            \n",
    "            \n",
    "            face_pil = Image.fromarray(face_resized).convert('RGB')\n",
    "            face_tensor = transform(face_pil).unsqueeze(0).to(device)\n",
    "            \n",
    "            \n",
    "            with torch.no_grad():\n",
    "                outputs = vit_model(face_tensor)\n",
    "                probabilities = torch.softmax(outputs, dim=1)\n",
    "                predicted_class = torch.argmax(probabilities, dim=1).item()\n",
    "                predictions.append(predicted_class)\n",
    "    \n",
    "    cap.release()\n",
    "\n",
    "    \n",
    "    if len(predictions) == 0:\n",
    "        return \"Unknown\", 0.0\n",
    "\n",
    "    \n",
    "    real_count = predictions.count(0)\n",
    "    fake_count = predictions.count(1)\n",
    "    confidence = fake_count / len(predictions)\n",
    "    \n",
    "    if fake_count > real_count:\n",
    "        return \"FAKE\", confidence\n",
    "    else:\n",
    "        return \"REAL\", 1 - confidence"
   ]
  },
  {
   "cell_type": "code",
   "execution_count": null,
   "metadata": {
    "execution": {
     "iopub.execute_input": "2025-01-12T21:34:32.882256Z",
     "iopub.status.busy": "2025-01-12T21:34:32.881728Z",
     "iopub.status.idle": "2025-01-12T21:34:47.195552Z",
     "shell.execute_reply": "2025-01-12T21:34:47.194664Z",
     "shell.execute_reply.started": "2025-01-12T21:34:32.881989Z"
    }
   },
   "outputs": [
    {
     "name": "stdout",
     "output_type": "stream",
     "text": [
      "Tahmin: FAKE, Güven Puanı: 0.56\n"
     ]
    }
   ],
   "source": [
    "\n",
    "test_video_path = '/kaggle/input/dfdc-48/dfdc_train_part_48/eukxkhumll.mp4'\n",
    "\n",
    "\n",
    "result, confidence = test_video(test_video_path, vit_model, transform, device)\n",
    "\n",
    "print(f\"Prediction: {result}, Confidence Score: {confidence:.2f}\")\n"
   ]
  },
  {
   "cell_type": "code",
   "execution_count": null,
   "metadata": {
    "execution": {
     "iopub.execute_input": "2025-01-12T21:34:47.197244Z",
     "iopub.status.busy": "2025-01-12T21:34:47.196938Z",
     "iopub.status.idle": "2025-01-12T21:34:47.765341Z",
     "shell.execute_reply": "2025-01-12T21:34:47.764301Z",
     "shell.execute_reply.started": "2025-01-12T21:34:47.197187Z"
    }
   },
   "outputs": [
    {
     "data": {
      "image/png": "[encoded data removed]",
      "text/plain": [
       "<Figure size 720x360 with 1 Axes>"
      ]
     },
     "metadata": {
      "needs_background": "light"
     },
     "output_type": "display_data"
    },
    {
     "data": {
      "image/png": "[encoded data removed]",
      "text/plain": [
       "<Figure size 720x360 with 1 Axes>"
      ]
     },
     "metadata": {
      "needs_background": "light"
     },
     "output_type": "display_data"
    }
   ],
   "source": [
    "import matplotlib.pyplot as plt\n",
    "\n",
    "epochs = [h['epoch'] for h in history]\n",
    "train_loss = [h['train_loss'] for h in history]\n",
    "val_loss = [h['val_loss'] for h in history]\n",
    "train_accuracy = [h['train_accuracy'] for h in history]\n",
    "val_accuracy = [h['val_accuracy'] for h in history]\n",
    "\n",
    "plt.figure(figsize=(10, 5))\n",
    "plt.plot(epochs, train_loss, label=\"Training Loss\", marker='o')\n",
    "plt.plot(epochs, val_loss, label=\"Validation Loss\", marker='o')\n",
    "plt.title(\"Training and Validation Loss\")\n",
    "plt.xlabel(\"Epoch\")\n",
    "plt.ylabel(\"Loss\")\n",
    "plt.legend()\n",
    "plt.grid(True)\n",
    "plt.show()\n",
    "\n",
    "plt.figure(figsize=(10, 5))\n",
    "plt.plot(epochs, train_accuracy, label=\"Training Accuracy\", marker='o')\n",
    "plt.plot(epochs, val_accuracy, label=\"Validation Accuracy\", marker='o')\n",
    "plt.title(\"Training and Validation Accuracy\")\n",
    "plt.xlabel(\"Epoch\")\n",
    "plt.ylabel(\"Accuracy\")\n",
    "plt.legend()\n",
    "plt.grid(True)\n",
    "plt.show()\n"
   ]
  },
  {
   "cell_type": "code",
   "execution_count": null,
   "metadata": {
    "execution": {
     "iopub.execute_input": "2025-01-12T21:34:47.767230Z",
     "iopub.status.busy": "2025-01-12T21:34:47.766862Z",
     "iopub.status.idle": "2025-01-12T21:34:47.785990Z",
     "shell.execute_reply": "2025-01-12T21:34:47.784768Z",
     "shell.execute_reply.started": "2025-01-12T21:34:47.767163Z"
    }
   },
   "outputs": [],
   "source": [
    "from sklearn.metrics import roc_auc_score, f1_score\n",
    "import torch\n",
    "\n",
    "def calculate_auc_f1(model, data_loader, device):\n",
    "\n",
    "    model.eval()\n",
    "    all_labels = []\n",
    "    all_preds = []\n",
    "\n",
    "    with torch.no_grad():\n",
    "        for batch in data_loader:\n",
    "            if len(batch) == 2:\n",
    "                images, labels = batch\n",
    "            elif len(batch) == 3:\n",
    "                images, labels, _ = batch  \n",
    "            else:\n",
    "                raise ValueError(\"Unexpected number of elements in batch.\")\n",
    "                \n",
    "            images, labels = images.to(device), labels.to(device)\n",
    "            outputs = model(images)\n",
    "            preds = torch.softmax(outputs, dim=1)[:, 1].cpu().numpy()\n",
    "            all_labels.extend(labels.cpu().numpy())\n",
    "            all_preds.extend(preds)\n",
    "\n",
    "    auc = roc_auc_score(all_labels, all_preds)\n",
    "    f1 = f1_score(all_labels, [1 if p > 0.5 else 0 for p in all_preds])\n",
    "    return auc, f1\n",
    "\n"
   ]
  },
  {
   "cell_type": "code",
   "execution_count": null,
   "metadata": {
    "execution": {
     "iopub.execute_input": "2025-01-12T21:34:47.788361Z",
     "iopub.status.busy": "2025-01-12T21:34:47.787979Z",
     "iopub.status.idle": "2025-01-12T21:34:54.543391Z",
     "shell.execute_reply": "2025-01-12T21:34:54.542648Z",
     "shell.execute_reply.started": "2025-01-12T21:34:47.788297Z"
    }
   },
   "outputs": [
    {
     "name": "stdout",
     "output_type": "stream",
     "text": [
      "Training AUC: 1.0000, Training F1 Score: 1.0000\n"
     ]
    }
   ],
   "source": [
    "\n",
    "train_auc, train_f1 = calculate_auc_f1(vit_model, train_loader, device)\n",
    "print(f\"Training AUC: {train_auc:.4f}, Training F1 Score: {train_f1:.4f}\")\n"
   ]
  },
  {
   "cell_type": "code",
   "execution_count": null,
   "metadata": {
    "execution": {
     "iopub.execute_input": "2025-01-12T21:34:54.545008Z",
     "iopub.status.busy": "2025-01-12T21:34:54.544796Z",
     "iopub.status.idle": "2025-01-12T21:34:56.392870Z",
     "shell.execute_reply": "2025-01-12T21:34:56.392087Z",
     "shell.execute_reply.started": "2025-01-12T21:34:54.544968Z"
    }
   },
   "outputs": [
    {
     "name": "stdout",
     "output_type": "stream",
     "text": [
      "Validation AUC: 0.5143, Validation F1 Score: 0.4815\n"
     ]
    }
   ],
   "source": [
    "\n",
    "val_auc, val_f1 = calculate_auc_f1(vit_model, val_loader, device)\n",
    "print(f\"Validation AUC: {val_auc:.4f}, Validation F1 Score: {val_f1:.4f}\")"
   ]
  },
  {
   "cell_type": "code",
   "execution_count": null,
   "metadata": {
    "execution": {
     "iopub.execute_input": "2025-01-12T21:34:56.394732Z",
     "iopub.status.busy": "2025-01-12T21:34:56.394451Z",
     "iopub.status.idle": "2025-01-12T21:34:57.478591Z",
     "shell.execute_reply": "2025-01-12T21:34:57.477664Z",
     "shell.execute_reply.started": "2025-01-12T21:34:56.394678Z"
    }
   },
   "outputs": [
    {
     "name": "stdout",
     "output_type": "stream",
     "text": [
      "Test AUC: 0.1429, Test F1 Score: 0.3605\n"
     ]
    }
   ],
   "source": [
    "\n",
    "test_auc, test_f1 = calculate_auc_f1(vit_model, test_loader, device)\n",
    "print(f\"Test AUC: {test_auc:.4f}, Test F1 Score: {test_f1:.4f}\")"
   ]
  },
  {
   "cell_type": "code",
   "execution_count": null,
   "metadata": {},
   "outputs": [],
   "source": []
  }
 ],
 "metadata": {
  "kaggle": {
   "accelerator": "gpu",
   "dataSources": [
    {
     "databundleVersionId": 858837,
     "sourceId": 16880,
     "sourceType": "competition"
    },
    {
     "datasetId": 6315886,
     "sourceId": 10217571,
     "sourceType": "datasetVersion"
    }
   ],
   "dockerImageVersionId": 29845,
   "isGpuEnabled": true,
   "isInternetEnabled": true,
   "language": "python",
   "sourceType": "notebook"
  },
  "kernelspec": {
   "display_name": "Python 3",
   "language": "python",
   "name": "python3"
  },
  "language_info": {
   "codemirror_mode": {
    "name": "ipython",
    "version": 3
   },
   "file_extension": ".py",
   "mimetype": "text/x-python",
   "name": "python",
   "nbconvert_exporter": "python",
   "pygments_lexer": "ipython3",
   "version": "3.6.6"
  }
 },
 "nbformat": 4,
 "nbformat_minor": 4
}
